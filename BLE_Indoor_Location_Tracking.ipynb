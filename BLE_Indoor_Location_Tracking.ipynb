{
 "cells": [
  {
   "cell_type": "code",
   "execution_count": 1,
   "metadata": {},
   "outputs": [
    {
     "name": "stdout",
     "output_type": "stream",
     "text": [
      "Collecting pyspark==3.0.0\n",
      "\u001b[?25l  Downloading https://files.pythonhosted.org/packages/8e/b0/bf9020b56492281b9c9d8aae8f44ff51e1bc91b3ef5a884385cb4e389a40/pyspark-3.0.0.tar.gz (204.7MB)\n",
      "\u001b[K     |████████████████████████████████| 204.7MB 136kB/s eta 0:00:01   |█                               | 6.3MB 7.2MB/s eta 0:00:28     |█▊                              | 10.7MB 7.2MB/s eta 0:00:27     |███████████▏                    | 71.5MB 14.1MB/s eta 0:00:10     |█████████████████████████       | 160.6MB 9.0MB/s eta 0:00:05     |███████████████████████████████ | 198.6MB 8.8MB/s eta 0:00:01\n",
      "\u001b[?25hCollecting koalas==1.0.1\n",
      "\u001b[?25l  Downloading https://files.pythonhosted.org/packages/50/b6/86413b835482398002b0609c337113e61998c00e3b0183b8adfaba9c56ee/koalas-1.0.1-py3-none-any.whl (691kB)\n",
      "\u001b[K     |████████████████████████████████| 696kB 29.7MB/s eta 0:00:01\n",
      "\u001b[?25hCollecting pyarrow==0.15.1\n",
      "\u001b[?25l  Downloading https://files.pythonhosted.org/packages/6c/32/ce1926f05679ea5448fd3b98fbd9419d8c7a65f87d1a12ee5fb9577e3a8e/pyarrow-0.15.1-cp36-cp36m-manylinux2010_x86_64.whl (59.2MB)\n",
      "\u001b[K     |████████████████████████████████| 59.2MB 36.6MB/s eta 0:00:01\n",
      "\u001b[?25hCollecting scikit-learn==0.23.1\n",
      "\u001b[?25l  Downloading https://files.pythonhosted.org/packages/d9/3a/eb8d7bbe28f4787d140bb9df685b7d5bf6115c0e2a969def4027144e98b6/scikit_learn-0.23.1-cp36-cp36m-manylinux1_x86_64.whl (6.8MB)\n",
      "\u001b[K     |████████████████████████████████| 6.9MB 8.3MB/s eta 0:00:01\n",
      "\u001b[?25hCollecting py4j==0.10.9 (from pyspark==3.0.0)\n",
      "\u001b[?25l  Downloading https://files.pythonhosted.org/packages/9e/b6/6a4fb90cd235dc8e265a6a2067f2a2c99f0d91787f06aca4bcf7c23f3f80/py4j-0.10.9-py2.py3-none-any.whl (198kB)\n",
      "\u001b[K     |████████████████████████████████| 204kB 29.5MB/s eta 0:00:01\n",
      "\u001b[?25hRequirement already satisfied: pandas>=0.23.2 in /opt/conda/envs/Python36/lib/python3.6/site-packages (from koalas==1.0.1) (0.24.1)\n",
      "Requirement already satisfied: numpy>=1.14 in /opt/conda/envs/Python36/lib/python3.6/site-packages (from koalas==1.0.1) (1.15.4)\n",
      "Requirement already satisfied: matplotlib>=3.0.0 in /opt/conda/envs/Python36/lib/python3.6/site-packages (from koalas==1.0.1) (3.0.2)\n",
      "Requirement already satisfied: six>=1.0.0 in /opt/conda/envs/Python36/lib/python3.6/site-packages (from pyarrow==0.15.1) (1.12.0)\n",
      "Collecting threadpoolctl>=2.0.0 (from scikit-learn==0.23.1)\n",
      "  Downloading https://files.pythonhosted.org/packages/f7/12/ec3f2e203afa394a149911729357aa48affc59c20e2c1c8297a60f33f133/threadpoolctl-2.1.0-py3-none-any.whl\n",
      "Requirement already satisfied: scipy>=0.19.1 in /opt/conda/envs/Python36/lib/python3.6/site-packages (from scikit-learn==0.23.1) (1.2.0)\n",
      "Collecting joblib>=0.11 (from scikit-learn==0.23.1)\n",
      "\u001b[?25l  Downloading https://files.pythonhosted.org/packages/51/dd/0e015051b4a27ec5a58b02ab774059f3289a94b0906f880a3f9507e74f38/joblib-0.16.0-py3-none-any.whl (300kB)\n",
      "\u001b[K     |████████████████████████████████| 307kB 30.2MB/s eta 0:00:01\n",
      "\u001b[?25hRequirement already satisfied: python-dateutil>=2.5.0 in /opt/conda/envs/Python36/lib/python3.6/site-packages (from pandas>=0.23.2->koalas==1.0.1) (2.7.5)\n",
      "Requirement already satisfied: pytz>=2011k in /opt/conda/envs/Python36/lib/python3.6/site-packages (from pandas>=0.23.2->koalas==1.0.1) (2018.9)\n",
      "Requirement already satisfied: cycler>=0.10 in /opt/conda/envs/Python36/lib/python3.6/site-packages (from matplotlib>=3.0.0->koalas==1.0.1) (0.10.0)\n",
      "Requirement already satisfied: kiwisolver>=1.0.1 in /opt/conda/envs/Python36/lib/python3.6/site-packages (from matplotlib>=3.0.0->koalas==1.0.1) (1.0.1)\n",
      "Requirement already satisfied: pyparsing!=2.0.4,!=2.1.2,!=2.1.6,>=2.0.1 in /opt/conda/envs/Python36/lib/python3.6/site-packages (from matplotlib>=3.0.0->koalas==1.0.1) (2.3.1)\n",
      "Requirement already satisfied: setuptools in /opt/conda/envs/Python36/lib/python3.6/site-packages (from kiwisolver>=1.0.1->matplotlib>=3.0.0->koalas==1.0.1) (40.8.0)\n",
      "Building wheels for collected packages: pyspark\n",
      "  Building wheel for pyspark (setup.py) ... \u001b[?25ldone\n",
      "\u001b[?25h  Stored in directory: /home/dsxuser/.cache/pip/wheels/57/27/4d/ddacf7143f8d5b76c45c61ee2e43d9f8492fc5a8e78ebd7d37\n",
      "Successfully built pyspark\n",
      "\u001b[31mERROR: autoai-libs 1.10.5 has requirement numpy>=1.16.4, but you'll have numpy 1.15.4 which is incompatible.\u001b[0m\n",
      "\u001b[31mERROR: autoai-libs 1.10.5 has requirement pandas>=0.24.2, but you'll have pandas 0.24.1 which is incompatible.\u001b[0m\n",
      "\u001b[31mERROR: autoai-libs 1.10.5 has requirement scikit-learn==0.20.3, but you'll have scikit-learn 0.23.1 which is incompatible.\u001b[0m\n",
      "Installing collected packages: py4j, pyspark, pyarrow, koalas, threadpoolctl, joblib, scikit-learn\n",
      "  Found existing installation: pyarrow 0.11.1\n",
      "    Uninstalling pyarrow-0.11.1:\n",
      "      Successfully uninstalled pyarrow-0.11.1\n",
      "  Found existing installation: scikit-learn 0.20.3\n",
      "    Uninstalling scikit-learn-0.20.3:\n",
      "      Successfully uninstalled scikit-learn-0.20.3\n",
      "Successfully installed joblib-0.16.0 koalas-1.0.1 py4j-0.10.9 pyarrow-0.15.1 pyspark-3.0.0 scikit-learn-0.23.1 threadpoolctl-2.1.0\n"
     ]
    }
   ],
   "source": [
    "!pip install pyspark==3.0.0 koalas==1.0.1 pyarrow==0.15.1 scikit-learn==0.23.1"
   ]
  },
  {
   "cell_type": "code",
   "execution_count": 14,
   "metadata": {},
   "outputs": [
    {
     "name": "stderr",
     "output_type": "stream",
     "text": [
      "--2020-07-03 05:36:16--  https://raw.githubusercontent.com/romeokienzler/BLE_Indoor_Location_Tracking/master/raw_data/log1.txt\n",
      "Resolving raw.githubusercontent.com (raw.githubusercontent.com)... 151.101.48.133\n",
      "Connecting to raw.githubusercontent.com (raw.githubusercontent.com)|151.101.48.133|:443... connected.\n",
      "HTTP request sent, awaiting response... 200 OK\n",
      "Length: 19954 (19K) [text/plain]\n",
      "Saving to: ‘log1.txt’\n",
      "\n",
      "     0K .......... .........                                  100% 13.0M=0.001s\n",
      "\n",
      "2020-07-03 05:36:16 (13.0 MB/s) - ‘log1.txt’ saved [19954/19954]\n",
      "\n",
      "--2020-07-03 05:36:16--  https://raw.githubusercontent.com/romeokienzler/BLE_Indoor_Location_Tracking/master/raw_data/log2.txt\n",
      "Resolving raw.githubusercontent.com (raw.githubusercontent.com)... 199.232.8.133\n",
      "Connecting to raw.githubusercontent.com (raw.githubusercontent.com)|199.232.8.133|:443... connected.\n",
      "HTTP request sent, awaiting response... 200 OK\n",
      "Length: 13026 (13K) [text/plain]\n",
      "Saving to: ‘log2.txt’\n",
      "\n",
      "     0K .......... ..                                         100% 10.4M=0.001s\n",
      "\n",
      "2020-07-03 05:36:16 (10.4 MB/s) - ‘log2.txt’ saved [13026/13026]\n",
      "\n",
      "--2020-07-03 05:36:16--  https://raw.githubusercontent.com/romeokienzler/BLE_Indoor_Location_Tracking/master/raw_data/log3.txt\n",
      "Resolving raw.githubusercontent.com (raw.githubusercontent.com)... 199.232.8.133\n",
      "Connecting to raw.githubusercontent.com (raw.githubusercontent.com)|199.232.8.133|:443... connected.\n",
      "HTTP request sent, awaiting response... 200 OK\n",
      "Length: 16682 (16K) [text/plain]\n",
      "Saving to: ‘log3.txt’\n",
      "\n",
      "     0K .......... ......                                     100% 12.2M=0.001s\n",
      "\n",
      "2020-07-03 05:36:16 (12.2 MB/s) - ‘log3.txt’ saved [16682/16682]\n",
      "\n",
      "--2020-07-03 05:36:16--  https://raw.githubusercontent.com/romeokienzler/BLE_Indoor_Location_Tracking/master/raw_data/log4.txt\n",
      "Resolving raw.githubusercontent.com (raw.githubusercontent.com)... 199.232.8.133\n",
      "Connecting to raw.githubusercontent.com (raw.githubusercontent.com)|199.232.8.133|:443... connected.\n",
      "HTTP request sent, awaiting response... 200 OK\n",
      "Length: 18890 (18K) [text/plain]\n",
      "Saving to: ‘log4.txt’\n",
      "\n",
      "     0K .......... ........                                   100% 13.3M=0.001s\n",
      "\n",
      "2020-07-03 05:36:16 (13.3 MB/s) - ‘log4.txt’ saved [18890/18890]\n",
      "\n"
     ]
    }
   ],
   "source": [
    "%%bash\n",
    "for i in `seq 4`; do \n",
    "    rm log$i*\n",
    "    wget https://raw.githubusercontent.com/romeokienzler/BLE_Indoor_Location_Tracking/master/raw_data/log$i.txt\n",
    "done"
   ]
  },
  {
   "cell_type": "code",
   "execution_count": 35,
   "metadata": {},
   "outputs": [],
   "source": [
    "%%bash\n",
    "for i in `seq 4`; do \n",
    "    echo \"ts,rssi\" > log$i.csv\n",
    "    cat log$i.txt |awk  '{print $4\",\"$11}' >> log$i.csv\n",
    "done"
   ]
  },
  {
   "cell_type": "code",
   "execution_count": 17,
   "metadata": {},
   "outputs": [
    {
     "name": "stderr",
     "output_type": "stream",
     "text": [
      "--2020-07-03 05:38:36--  https://raw.githubusercontent.com/romeokienzler/BLE_Indoor_Location_Tracking/master/raw_data/markers1.csv\n",
      "Resolving raw.githubusercontent.com (raw.githubusercontent.com)... 199.232.8.133\n",
      "Connecting to raw.githubusercontent.com (raw.githubusercontent.com)|199.232.8.133|:443... connected.\n",
      "HTTP request sent, awaiting response... 200 OK\n",
      "Length: 151 [text/plain]\n",
      "Saving to: ‘markers1.csv’\n",
      "\n",
      "     0K                                                       100% 4.71M=0s\n",
      "\n",
      "2020-07-03 05:38:36 (4.71 MB/s) - ‘markers1.csv’ saved [151/151]\n",
      "\n",
      "--2020-07-03 05:38:36--  https://raw.githubusercontent.com/romeokienzler/BLE_Indoor_Location_Tracking/master/raw_data/markers2.csv\n",
      "Resolving raw.githubusercontent.com (raw.githubusercontent.com)... 151.101.48.133\n",
      "Connecting to raw.githubusercontent.com (raw.githubusercontent.com)|151.101.48.133|:443... connected.\n",
      "HTTP request sent, awaiting response... 200 OK\n",
      "Length: 151 [text/plain]\n",
      "Saving to: ‘markers2.csv’\n",
      "\n",
      "     0K                                                       100% 4.71M=0s\n",
      "\n",
      "2020-07-03 05:38:36 (4.71 MB/s) - ‘markers2.csv’ saved [151/151]\n",
      "\n",
      "--2020-07-03 05:38:36--  https://raw.githubusercontent.com/romeokienzler/BLE_Indoor_Location_Tracking/master/raw_data/markers3.csv\n",
      "Resolving raw.githubusercontent.com (raw.githubusercontent.com)... 151.101.48.133\n",
      "Connecting to raw.githubusercontent.com (raw.githubusercontent.com)|151.101.48.133|:443... connected.\n",
      "HTTP request sent, awaiting response... 200 OK\n",
      "Length: 151 [text/plain]\n",
      "Saving to: ‘markers3.csv’\n",
      "\n",
      "     0K                                                       100% 4.48M=0s\n",
      "\n",
      "2020-07-03 05:38:37 (4.48 MB/s) - ‘markers3.csv’ saved [151/151]\n",
      "\n",
      "--2020-07-03 05:38:37--  https://raw.githubusercontent.com/romeokienzler/BLE_Indoor_Location_Tracking/master/raw_data/markers4.csv\n",
      "Resolving raw.githubusercontent.com (raw.githubusercontent.com)... 199.232.8.133\n",
      "Connecting to raw.githubusercontent.com (raw.githubusercontent.com)|199.232.8.133|:443... connected.\n",
      "HTTP request sent, awaiting response... 200 OK\n",
      "Length: 151 [text/plain]\n",
      "Saving to: ‘markers4.csv’\n",
      "\n",
      "     0K                                                       100% 3.65M=0s\n",
      "\n",
      "2020-07-03 05:38:37 (3.65 MB/s) - ‘markers4.csv’ saved [151/151]\n",
      "\n"
     ]
    }
   ],
   "source": [
    "%%bash\n",
    "for i in `seq 4`; do \n",
    "    rm markers$i.csv\n",
    "    wget https://raw.githubusercontent.com/romeokienzler/BLE_Indoor_Location_Tracking/master/raw_data/markers$i.csv\n",
    "done"
   ]
  },
  {
   "cell_type": "code",
   "execution_count": 19,
   "metadata": {},
   "outputs": [],
   "source": [
    "from pyspark import SparkContext, SparkConf\n",
    "from pyspark.sql import SparkSession\n",
    "\n",
    "sc = SparkContext.getOrCreate(SparkConf().setMaster(\"local[*]\"))\n",
    "spark = SparkSession.builder.getOrCreate()"
   ]
  },
  {
   "cell_type": "code",
   "execution_count": 101,
   "metadata": {},
   "outputs": [
    {
     "name": "stdout",
     "output_type": "stream",
     "text": [
      "[Row(receiver_placement=1)]\n",
      "[Row(receiver_placement=1), Row(receiver_placement=2)]\n",
      "[Row(receiver_placement=1), Row(receiver_placement=3), Row(receiver_placement=2)]\n",
      "[Row(receiver_placement=1), Row(receiver_placement=3), Row(receiver_placement=4), Row(receiver_placement=2)]\n"
     ]
    }
   ],
   "source": [
    "from pyspark.sql.functions import lit\n",
    "\n",
    "data = None\n",
    "markers = None\n",
    "\n",
    "for i in range(1,5):\n",
    "    data_tmp = spark.read.option('header','true').csv('log'+str(i)+'.csv')\n",
    "    data_tmp = data_tmp.withColumn('receiver_placement', lit(i))\n",
    "    markers_tmp = spark.read.option('header','true').csv('markers'+str(i)+'.csv')\n",
    "    markers_tmp = markers_tmp.withColumn('receiver_placement', lit(i))\n",
    "    if i == 1:\n",
    "        data = data_tmp\n",
    "        markers = markers_tmp\n",
    "    else:\n",
    "        data = data.union(data_tmp)\n",
    "        markers = markers.union(markers_tmp)"
   ]
  },
  {
   "cell_type": "code",
   "execution_count": 103,
   "metadata": {},
   "outputs": [],
   "source": [
    "#convert ts_string to ts_timestamp\n",
    "from pyspark.sql.functions import to_timestamp\n",
    "data = data.withColumn(\"ts_p\", to_timestamp(\"ts\", \"HH:mm:ss\"))\n",
    "markers = markers.withColumn(\"ts_start_p\", to_timestamp(\"ts_start\", \"HH:mm:ss\"))\n",
    "markers = markers.withColumn(\"ts_stop_p\", to_timestamp(\"ts_stop\", \"HH:mm:ss\"))"
   ]
  },
  {
   "cell_type": "code",
   "execution_count": 104,
   "metadata": {},
   "outputs": [],
   "source": [
    "data.createOrReplaceTempView('data')\n",
    "markers.createOrReplaceTempView('markers')"
   ]
  },
  {
   "cell_type": "code",
   "execution_count": 105,
   "metadata": {},
   "outputs": [],
   "source": [
    "data = spark.sql('''\n",
    "select rssi,d.receiver_placement,location from data d \n",
    "inner join markers m on \n",
    "d.receiver_placement = m.receiver_placement \n",
    "and d.ts_p>=m.ts_start_p \n",
    "and d.ts_p<=m.ts_stop_p\n",
    "''')\n",
    "data.createOrReplaceTempView('data')"
   ]
  },
  {
   "cell_type": "code",
   "execution_count": 106,
   "metadata": {},
   "outputs": [],
   "source": [
    "import databricks.koalas as ks\n",
    "kdf = data.to_koalas()"
   ]
  },
  {
   "cell_type": "code",
   "execution_count": 107,
   "metadata": {},
   "outputs": [],
   "source": [
    "kdf = kdf.dropna()"
   ]
  },
  {
   "cell_type": "code",
   "execution_count": 108,
   "metadata": {},
   "outputs": [],
   "source": [
    "pdf = kdf.toPandas()"
   ]
  },
  {
   "cell_type": "code",
   "execution_count": 109,
   "metadata": {},
   "outputs": [
    {
     "name": "stderr",
     "output_type": "stream",
     "text": [
      "/opt/conda/envs/Python36/lib/python3.6/site-packages/sklearn/utils/validation.py:73: DataConversionWarning: A column-vector y was passed when a 1d array was expected. Please change the shape of y to (n_samples, ), for example using ravel().\n",
      "  return f(**kwargs)\n"
     ]
    }
   ],
   "source": [
    "from sklearn.linear_model import LogisticRegression\n",
    "clf = LogisticRegression(random_state=0).fit(pdf[['rssi','receiver_placement']], pdf[['location']])"
   ]
  },
  {
   "cell_type": "code",
   "execution_count": 110,
   "metadata": {},
   "outputs": [
    {
     "data": {
      "text/plain": [
       "0.27932960893854747"
      ]
     },
     "execution_count": 110,
     "metadata": {},
     "output_type": "execute_result"
    }
   ],
   "source": [
    "from sklearn.metrics import accuracy_score\n",
    "accuracy_score(pdf[['location']], clf.predict(pdf[['rssi','receiver_placement']]))"
   ]
  },
  {
   "cell_type": "code",
   "execution_count": 111,
   "metadata": {},
   "outputs": [
    {
     "name": "stdout",
     "output_type": "stream",
     "text": [
      "              precision    recall  f1-score   support\n",
      "\n",
      "           0       0.36      0.67      0.47        92\n",
      "           1       0.00      0.00      0.00        88\n",
      "           2       0.00      0.00      0.00        81\n",
      "           3       0.24      0.39      0.30        97\n",
      "\n",
      "    accuracy                           0.28       358\n",
      "   macro avg       0.15      0.27      0.19       358\n",
      "weighted avg       0.16      0.28      0.20       358\n",
      "\n"
     ]
    },
    {
     "name": "stderr",
     "output_type": "stream",
     "text": [
      "/opt/conda/envs/Python36/lib/python3.6/site-packages/sklearn/metrics/_classification.py:1221: UndefinedMetricWarning: Precision and F-score are ill-defined and being set to 0.0 in labels with no predicted samples. Use `zero_division` parameter to control this behavior.\n",
      "  _warn_prf(average, modifier, msg_start, len(result))\n"
     ]
    }
   ],
   "source": [
    "from sklearn.metrics import classification_report\n",
    "target_names = ['0','1','2','3']\n",
    "print(classification_report(pdf[['location']], clf.predict(pdf[['rssi','receiver_placement']]), target_names=target_names))"
   ]
  },
  {
   "cell_type": "code",
   "execution_count": 165,
   "metadata": {},
   "outputs": [],
   "source": [
    "slices = [[x]*4 for x in [b for b in range(4)]]\n",
    "\n",
    "for receiver_placement in range(1,5):\n",
    "    for location in range(4):\n",
    "        slices[location][receiver_placement-1] = kdf[(kdf['receiver_placement']==receiver_placement) & (kdf['location']==location)][['rssi','location']]\n"
   ]
  },
  {
   "cell_type": "code",
   "execution_count": 166,
   "metadata": {},
   "outputs": [],
   "source": [
    "minimum = 100\n",
    "for i in range(4):\n",
    "    for j in range(4):\n",
    "        minimum = min(minimum,len(slices[i][j]))"
   ]
  },
  {
   "cell_type": "code",
   "execution_count": 167,
   "metadata": {},
   "outputs": [],
   "source": [
    "kdf_final = ks.range(minimum*4)\n",
    "for i in range(4): #locations\n",
    "    for j in range(4): #placements\n",
    "        slices[i][j] = slices[i][j].head(minimum)\n"
   ]
  },
  {
   "cell_type": "code",
   "execution_count": 174,
   "metadata": {},
   "outputs": [
    {
     "name": "stdout",
     "output_type": "stream",
     "text": [
      "   id location rssi_0 rssi_1 rssi_2 rssi_3\n",
      "0   0        0    -86   None   None   None\n",
      "1   1        0    -84   None   None   None\n",
      "2   2        0    -86   None   None   None\n",
      "3   3        0    -87   None   None   None\n",
      "4   4        0    -77   None   None   None\n",
      "5   5        0    -72   None   None   None\n",
      "6   6        0    -66   None   None   None\n",
      "7   7        0    -73   None   None   None\n",
      "8   8        0    -67   None   None   None\n",
      "   id location rssi_0 rssi_1 rssi_2 rssi_3\n",
      "0   0     None   None   None   None   None\n",
      "1   1     None   None   None   None   None\n",
      "2   2     None   None   None   None   None\n",
      "3   3     None   None   None   None   None\n",
      "4   4     None   None   None   None   None\n",
      "5   5     None   None   None   None   None\n",
      "6   6     None   None   None   None   None\n",
      "7   7     None   None   None   None   None\n",
      "8   8     None   None   None   None   None\n",
      "   id location rssi_0 rssi_1 rssi_2 rssi_3\n",
      "0   0     None   None   None   None   None\n",
      "1   1     None   None   None   None   None\n",
      "2   2     None   None   None   None   None\n",
      "3   3     None   None   None   None   None\n",
      "4   4     None   None   None   None   None\n",
      "5   5     None   None   None   None   None\n",
      "6   6     None   None   None   None   None\n",
      "7   7     None   None   None   None   None\n",
      "8   8     None   None   None   None   None\n",
      "   id location rssi_0 rssi_1 rssi_2 rssi_3\n",
      "0   0     None   None   None   None   None\n",
      "1   1     None   None   None   None   None\n",
      "2   2     None   None   None   None   None\n",
      "3   3     None   None   None   None   None\n",
      "4   4     None   None   None   None   None\n",
      "5   5     None   None   None   None   None\n",
      "6   6     None   None   None   None   None\n",
      "7   7     None   None   None   None   None\n",
      "8   8     None   None   None   None   None\n"
     ]
    }
   ],
   "source": [
    "ks.options.compute.ops_on_diff_frames=True\n",
    "for i in range(4): #locations\n",
    "    kdf_tmp = ks.range(minimum)\n",
    "    for j in range(4): #placements\n",
    "        if j == 0:\n",
    "             kdf_tmp['location']=slices[i][j]['location']\n",
    "        kdf_tmp['rssi_'+str(j)]=slices[i][j]['rssi']\n",
    "    print(kdf_tmp)  "
   ]
  },
  {
   "cell_type": "code",
   "execution_count": 145,
   "metadata": {},
   "outputs": [
    {
     "data": {
      "text/html": [
       "<div>\n",
       "<style scoped>\n",
       "    .dataframe tbody tr th:only-of-type {\n",
       "        vertical-align: middle;\n",
       "    }\n",
       "\n",
       "    .dataframe tbody tr th {\n",
       "        vertical-align: top;\n",
       "    }\n",
       "\n",
       "    .dataframe thead th {\n",
       "        text-align: right;\n",
       "    }\n",
       "</style>\n",
       "<table border=\"1\" class=\"dataframe\">\n",
       "  <thead>\n",
       "    <tr style=\"text-align: right;\">\n",
       "      <th></th>\n",
       "    </tr>\n",
       "  </thead>\n",
       "  <tbody>\n",
       "    <tr>\n",
       "      <th>rssi_1</th>\n",
       "    </tr>\n",
       "    <tr>\n",
       "      <th>rssi_2</th>\n",
       "    </tr>\n",
       "    <tr>\n",
       "      <th>rssi_3</th>\n",
       "    </tr>\n",
       "    <tr>\n",
       "      <th>rssi_4</th>\n",
       "    </tr>\n",
       "    <tr>\n",
       "      <th>location</th>\n",
       "    </tr>\n",
       "  </tbody>\n",
       "</table>\n",
       "</div>"
      ],
      "text/plain": [
       "Empty DataFrame\n",
       "Columns: []\n",
       "Index: [rssi_1, rssi_2, rssi_3, rssi_4, location]"
      ]
     },
     "execution_count": 145,
     "metadata": {},
     "output_type": "execute_result"
    }
   ],
   "source": [
    "ks.DataFrame({},index=list(['rssi_1','rssi_2','rssi_3','rssi_4','location']))"
   ]
  },
  {
   "cell_type": "code",
   "execution_count": 147,
   "metadata": {},
   "outputs": [
    {
     "data": {
      "text/html": [
       "<div>\n",
       "<style scoped>\n",
       "    .dataframe tbody tr th:only-of-type {\n",
       "        vertical-align: middle;\n",
       "    }\n",
       "\n",
       "    .dataframe tbody tr th {\n",
       "        vertical-align: top;\n",
       "    }\n",
       "\n",
       "    .dataframe thead th {\n",
       "        text-align: right;\n",
       "    }\n",
       "</style>\n",
       "<table border=\"1\" class=\"dataframe\">\n",
       "  <thead>\n",
       "    <tr style=\"text-align: right;\">\n",
       "      <th></th>\n",
       "      <th>id</th>\n",
       "    </tr>\n",
       "  </thead>\n",
       "  <tbody>\n",
       "    <tr>\n",
       "      <th>0</th>\n",
       "      <td>0</td>\n",
       "    </tr>\n",
       "    <tr>\n",
       "      <th>1</th>\n",
       "      <td>1</td>\n",
       "    </tr>\n",
       "    <tr>\n",
       "      <th>2</th>\n",
       "      <td>2</td>\n",
       "    </tr>\n",
       "    <tr>\n",
       "      <th>3</th>\n",
       "      <td>3</td>\n",
       "    </tr>\n",
       "    <tr>\n",
       "      <th>4</th>\n",
       "      <td>4</td>\n",
       "    </tr>\n",
       "    <tr>\n",
       "      <th>5</th>\n",
       "      <td>5</td>\n",
       "    </tr>\n",
       "    <tr>\n",
       "      <th>6</th>\n",
       "      <td>6</td>\n",
       "    </tr>\n",
       "    <tr>\n",
       "      <th>7</th>\n",
       "      <td>7</td>\n",
       "    </tr>\n",
       "    <tr>\n",
       "      <th>8</th>\n",
       "      <td>8</td>\n",
       "    </tr>\n",
       "    <tr>\n",
       "      <th>9</th>\n",
       "      <td>9</td>\n",
       "    </tr>\n",
       "    <tr>\n",
       "      <th>10</th>\n",
       "      <td>10</td>\n",
       "    </tr>\n",
       "    <tr>\n",
       "      <th>11</th>\n",
       "      <td>11</td>\n",
       "    </tr>\n",
       "    <tr>\n",
       "      <th>12</th>\n",
       "      <td>12</td>\n",
       "    </tr>\n",
       "    <tr>\n",
       "      <th>13</th>\n",
       "      <td>13</td>\n",
       "    </tr>\n",
       "    <tr>\n",
       "      <th>14</th>\n",
       "      <td>14</td>\n",
       "    </tr>\n",
       "    <tr>\n",
       "      <th>15</th>\n",
       "      <td>15</td>\n",
       "    </tr>\n",
       "    <tr>\n",
       "      <th>16</th>\n",
       "      <td>16</td>\n",
       "    </tr>\n",
       "    <tr>\n",
       "      <th>17</th>\n",
       "      <td>17</td>\n",
       "    </tr>\n",
       "    <tr>\n",
       "      <th>18</th>\n",
       "      <td>18</td>\n",
       "    </tr>\n",
       "    <tr>\n",
       "      <th>19</th>\n",
       "      <td>19</td>\n",
       "    </tr>\n",
       "    <tr>\n",
       "      <th>20</th>\n",
       "      <td>20</td>\n",
       "    </tr>\n",
       "    <tr>\n",
       "      <th>21</th>\n",
       "      <td>21</td>\n",
       "    </tr>\n",
       "    <tr>\n",
       "      <th>22</th>\n",
       "      <td>22</td>\n",
       "    </tr>\n",
       "    <tr>\n",
       "      <th>23</th>\n",
       "      <td>23</td>\n",
       "    </tr>\n",
       "    <tr>\n",
       "      <th>24</th>\n",
       "      <td>24</td>\n",
       "    </tr>\n",
       "    <tr>\n",
       "      <th>25</th>\n",
       "      <td>25</td>\n",
       "    </tr>\n",
       "    <tr>\n",
       "      <th>26</th>\n",
       "      <td>26</td>\n",
       "    </tr>\n",
       "    <tr>\n",
       "      <th>27</th>\n",
       "      <td>27</td>\n",
       "    </tr>\n",
       "    <tr>\n",
       "      <th>28</th>\n",
       "      <td>28</td>\n",
       "    </tr>\n",
       "    <tr>\n",
       "      <th>29</th>\n",
       "      <td>29</td>\n",
       "    </tr>\n",
       "    <tr>\n",
       "      <th>30</th>\n",
       "      <td>30</td>\n",
       "    </tr>\n",
       "    <tr>\n",
       "      <th>31</th>\n",
       "      <td>31</td>\n",
       "    </tr>\n",
       "    <tr>\n",
       "      <th>32</th>\n",
       "      <td>32</td>\n",
       "    </tr>\n",
       "    <tr>\n",
       "      <th>33</th>\n",
       "      <td>33</td>\n",
       "    </tr>\n",
       "    <tr>\n",
       "      <th>34</th>\n",
       "      <td>34</td>\n",
       "    </tr>\n",
       "    <tr>\n",
       "      <th>35</th>\n",
       "      <td>35</td>\n",
       "    </tr>\n",
       "  </tbody>\n",
       "</table>\n",
       "</div>"
      ],
      "text/plain": [
       "    id\n",
       "0    0\n",
       "1    1\n",
       "2    2\n",
       "3    3\n",
       "4    4\n",
       "5    5\n",
       "6    6\n",
       "7    7\n",
       "8    8\n",
       "9    9\n",
       "10  10\n",
       "11  11\n",
       "12  12\n",
       "13  13\n",
       "14  14\n",
       "15  15\n",
       "16  16\n",
       "17  17\n",
       "18  18\n",
       "19  19\n",
       "20  20\n",
       "21  21\n",
       "22  22\n",
       "23  23\n",
       "24  24\n",
       "25  25\n",
       "26  26\n",
       "27  27\n",
       "28  28\n",
       "29  29\n",
       "30  30\n",
       "31  31\n",
       "32  32\n",
       "33  33\n",
       "34  34\n",
       "35  35"
      ]
     },
     "execution_count": 147,
     "metadata": {},
     "output_type": "execute_result"
    }
   ],
   "source": []
  },
  {
   "cell_type": "code",
   "execution_count": null,
   "metadata": {},
   "outputs": [],
   "source": []
  }
 ],
 "metadata": {
  "kernelspec": {
   "display_name": "Python 3.6",
   "language": "python",
   "name": "python3"
  },
  "language_info": {
   "codemirror_mode": {
    "name": "ipython",
    "version": 3
   },
   "file_extension": ".py",
   "mimetype": "text/x-python",
   "name": "python",
   "nbconvert_exporter": "python",
   "pygments_lexer": "ipython3",
   "version": "3.6.9"
  }
 },
 "nbformat": 4,
 "nbformat_minor": 1
}
