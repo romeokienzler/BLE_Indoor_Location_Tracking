{
 "cells": [
  {
   "cell_type": "code",
   "execution_count": 1,
   "metadata": {},
   "outputs": [
    {
     "name": "stdout",
     "output_type": "stream",
     "text": [
      "Requirement already satisfied: pyspark==3.0.0 in /opt/conda/envs/Python36/lib/python3.6/site-packages (3.0.0)\n",
      "Requirement already satisfied: koalas==1.0.1 in /opt/conda/envs/Python36/lib/python3.6/site-packages (1.0.1)\n",
      "Requirement already satisfied: pyarrow==0.15.1 in /opt/conda/envs/Python36/lib/python3.6/site-packages (0.15.1)\n",
      "Requirement already satisfied: scikit-learn==0.23.1 in /opt/conda/envs/Python36/lib/python3.6/site-packages (0.23.1)\n",
      "Requirement already satisfied: py4j==0.10.9 in /opt/conda/envs/Python36/lib/python3.6/site-packages (from pyspark==3.0.0) (0.10.9)\n",
      "Requirement already satisfied: pandas>=0.23.2 in /opt/conda/envs/Python36/lib/python3.6/site-packages (from koalas==1.0.1) (0.24.1)\n",
      "Requirement already satisfied: numpy>=1.14 in /opt/conda/envs/Python36/lib/python3.6/site-packages (from koalas==1.0.1) (1.15.4)\n",
      "Requirement already satisfied: matplotlib>=3.0.0 in /opt/conda/envs/Python36/lib/python3.6/site-packages (from koalas==1.0.1) (3.0.2)\n",
      "Requirement already satisfied: six>=1.0.0 in /opt/conda/envs/Python36/lib/python3.6/site-packages (from pyarrow==0.15.1) (1.12.0)\n",
      "Requirement already satisfied: joblib>=0.11 in /opt/conda/envs/Python36/lib/python3.6/site-packages (from scikit-learn==0.23.1) (0.16.0)\n",
      "Requirement already satisfied: threadpoolctl>=2.0.0 in /opt/conda/envs/Python36/lib/python3.6/site-packages (from scikit-learn==0.23.1) (2.1.0)\n",
      "Requirement already satisfied: scipy>=0.19.1 in /opt/conda/envs/Python36/lib/python3.6/site-packages (from scikit-learn==0.23.1) (1.2.0)\n",
      "Requirement already satisfied: python-dateutil>=2.5.0 in /opt/conda/envs/Python36/lib/python3.6/site-packages (from pandas>=0.23.2->koalas==1.0.1) (2.7.5)\n",
      "Requirement already satisfied: pytz>=2011k in /opt/conda/envs/Python36/lib/python3.6/site-packages (from pandas>=0.23.2->koalas==1.0.1) (2018.9)\n",
      "Requirement already satisfied: cycler>=0.10 in /opt/conda/envs/Python36/lib/python3.6/site-packages (from matplotlib>=3.0.0->koalas==1.0.1) (0.10.0)\n",
      "Requirement already satisfied: kiwisolver>=1.0.1 in /opt/conda/envs/Python36/lib/python3.6/site-packages (from matplotlib>=3.0.0->koalas==1.0.1) (1.0.1)\n",
      "Requirement already satisfied: pyparsing!=2.0.4,!=2.1.2,!=2.1.6,>=2.0.1 in /opt/conda/envs/Python36/lib/python3.6/site-packages (from matplotlib>=3.0.0->koalas==1.0.1) (2.3.1)\n",
      "Requirement already satisfied: setuptools in /opt/conda/envs/Python36/lib/python3.6/site-packages (from kiwisolver>=1.0.1->matplotlib>=3.0.0->koalas==1.0.1) (40.8.0)\n"
     ]
    }
   ],
   "source": [
    "!pip install pyspark==3.0.0 koalas==1.0.1 pyarrow==0.15.1 scikit-learn==0.23.1"
   ]
  },
  {
   "cell_type": "code",
   "execution_count": 2,
   "metadata": {},
   "outputs": [
    {
     "name": "stdout",
     "output_type": "stream",
     "text": [
      "--2020-07-02 10:05:45--  https://raw.githubusercontent.com/romeokienzler/BLE_Indoor_Location_Tracking/master/raw_data/log1.txt\n",
      "Resolving raw.githubusercontent.com (raw.githubusercontent.com)... 199.232.8.133\n",
      "Connecting to raw.githubusercontent.com (raw.githubusercontent.com)|199.232.8.133|:443... connected.\n",
      "HTTP request sent, awaiting response... 200 OK\n",
      "Length: 19954 (19K) [text/plain]\n",
      "Saving to: ‘log1.txt’\n",
      "\n",
      "100%[======================================>] 19,954      --.-K/s   in 0.001s  \n",
      "\n",
      "2020-07-02 10:05:45 (13.0 MB/s) - ‘log1.txt’ saved [19954/19954]\n",
      "\n"
     ]
    }
   ],
   "source": [
    "!rm log1* && wget https://raw.githubusercontent.com/romeokienzler/BLE_Indoor_Location_Tracking/master/raw_data/log1.txt"
   ]
  },
  {
   "cell_type": "code",
   "execution_count": 3,
   "metadata": {},
   "outputs": [
    {
     "name": "stdout",
     "output_type": "stream",
     "text": [
      "07:49:45,-86\r\n",
      "07:49:50,-84\r\n",
      "07:49:55,-86\r\n",
      "07:50:00,-87\r\n",
      "07:50:05,-77\r\n",
      "07:50:10,-72\r\n",
      "07:50:15,-66\r\n",
      "07:50:20,-73\r\n",
      "07:50:25,-67\r\n",
      "07:50:30,-74\r\n",
      "07:50:35,-68\r\n",
      "07:50:40,-52\r\n",
      "07:50:45,-62\r\n",
      "07:50:50,-76\r\n",
      "07:50:55,-80\r\n",
      "07:51:00,-69\r\n",
      "07:51:05,-69\r\n",
      "07:51:10,-69\r\n",
      "07:51:15,-69\r\n",
      "07:51:20,-69\r\n",
      "07:51:25,-67\r\n",
      "07:51:30,-69\r\n",
      "07:51:35,-68\r\n",
      "07:51:40,-69\r\n",
      "07:51:45,-69\r\n",
      "07:51:50,-69\r\n",
      "07:51:55,-76\r\n",
      "07:52:00,-69\r\n",
      "07:52:05,-77\r\n",
      "07:52:10,-53\r\n",
      "07:52:15,-77\r\n",
      "07:52:20,-69\r\n",
      "07:52:25,-69\r\n",
      "07:52:30,-69\r\n",
      "07:52:35,-69\r\n",
      "07:52:40,-77\r\n",
      "07:52:45,-77\r\n",
      "07:52:50,-62\r\n",
      "07:52:55,-69\r\n",
      "07:53:00,-54\r\n",
      "07:53:05,-83\r\n",
      "07:53:10,-91\r\n",
      "07:53:15,-90\r\n",
      "07:53:20,-90\r\n",
      "07:53:25,-100\r\n",
      "07:53:30,-89\r\n",
      "07:53:35,-87\r\n",
      "07:53:40,-88\r\n",
      "07:53:45,-89\r\n",
      "07:53:50,-87\r\n",
      "07:53:55,-88\r\n",
      "07:54:00,-88\r\n",
      "07:54:05,-90\r\n",
      "07:54:10,-92\r\n",
      "07:54:15,-88\r\n",
      "07:54:20,-87\r\n",
      "07:54:25,-79\r\n",
      "07:54:30,-77\r\n",
      "07:54:35,-88\r\n",
      "07:54:40,-89\r\n",
      "07:54:45,-88\r\n",
      "07:54:50,-78\r\n",
      "07:54:55,-88\r\n",
      "07:55:00,-89\r\n",
      "07:55:05,-91\r\n",
      "07:55:10,-100\r\n",
      "07:55:15,\r\n",
      "07:55:20,\r\n",
      "07:55:25,-99\r\n",
      "07:55:30,\r\n",
      "07:55:35,\r\n",
      "07:55:40,\r\n",
      "07:55:45,-100\r\n",
      "07:55:50,\r\n",
      "07:55:55,-98\r\n",
      "07:56:00,\r\n",
      "07:56:05,\r\n",
      "07:56:10,-97\r\n",
      "07:56:15,-88\r\n",
      "07:56:20,-97\r\n",
      "07:56:25,-99\r\n",
      "07:56:30,-97\r\n",
      "07:56:35,-98\r\n",
      "07:56:40,-87\r\n",
      "07:56:45,-97\r\n",
      "07:56:50,-98\r\n",
      "07:56:55,\r\n",
      "07:57:00,\r\n",
      "07:57:05,-103\r\n",
      "07:57:10,-97\r\n",
      "07:57:15,-100\r\n",
      "07:57:20,-97\r\n",
      "07:57:25,-98\r\n",
      "07:57:30,-104\r\n",
      "07:57:35,-96\r\n",
      "07:57:40,-97\r\n",
      "07:57:45,-94\r\n",
      "07:57:50,-96\r\n",
      "07:57:55,-96\r\n",
      "07:58:00,-96\r\n",
      "07:58:05,-97\r\n",
      "07:58:10,-95\r\n",
      "07:58:15,-100\r\n",
      "07:58:20,-97\r\n",
      "07:58:25,-95\r\n",
      "07:58:30,-96\r\n",
      "07:58:35,-98\r\n",
      "07:58:40,-97\r\n",
      "07:58:45,-106\r\n",
      "07:58:51,-95\r\n",
      "07:58:56,-96\r\n",
      "07:59:01,-94\r\n",
      "07:59:06,-93\r\n",
      "07:59:11,-86\r\n",
      "07:59:16,-64\r\n",
      "07:59:21,-65\r\n",
      "07:59:26,-71\r\n",
      "07:59:31,-66\r\n",
      "07:59:36,-63\r\n",
      "07:59:41,-64\r\n",
      "07:59:46,-65\r\n",
      "07:59:51,-65\r\n",
      "07:59:56,-66\r\n",
      "08:00:01,-66\r\n",
      "08:00:06,-63\r\n",
      "08:00:11,-66\r\n",
      "08:00:16,-50\r\n"
     ]
    }
   ],
   "source": [
    "!echo \"ts,rssi\"> log1.csv\n",
    "!cat log1.txt |awk  '{print $4\",\"$11}' |tee -a  log1.csv"
   ]
  },
  {
   "cell_type": "code",
   "execution_count": 4,
   "metadata": {},
   "outputs": [
    {
     "name": "stdout",
     "output_type": "stream",
     "text": [
      "--2020-07-02 10:05:48--  https://raw.githubusercontent.com/romeokienzler/BLE_Indoor_Location_Tracking/master/raw_data/markers1.csv\n",
      "Resolving raw.githubusercontent.com (raw.githubusercontent.com)... 199.232.8.133\n",
      "Connecting to raw.githubusercontent.com (raw.githubusercontent.com)|199.232.8.133|:443... connected.\n",
      "HTTP request sent, awaiting response... 200 OK\n",
      "Length: 151 [text/plain]\n",
      "Saving to: ‘markers1.csv’\n",
      "\n",
      "100%[======================================>] 151         --.-K/s   in 0s      \n",
      "\n",
      "2020-07-02 10:05:48 (5.82 MB/s) - ‘markers1.csv’ saved [151/151]\n",
      "\n"
     ]
    }
   ],
   "source": [
    "!rm markers* && wget https://raw.githubusercontent.com/romeokienzler/BLE_Indoor_Location_Tracking/master/raw_data/markers1.csv"
   ]
  },
  {
   "cell_type": "code",
   "execution_count": 5,
   "metadata": {},
   "outputs": [
    {
     "name": "stdout",
     "output_type": "stream",
     "text": [
      "ts_start,ts_stop,location,comment\r\n",
      "07:30:05,07:53:05,0,sofa\r\n",
      "07:53:10,07:55:10,1,tuer\r\n",
      "07:55:15,07:57:15,2,schlafzimmertuer\r\n",
      "07:57:20,07:59:06,3,olivenoel\r\n"
     ]
    }
   ],
   "source": [
    "!head markers1.csv"
   ]
  },
  {
   "cell_type": "code",
   "execution_count": 6,
   "metadata": {},
   "outputs": [],
   "source": [
    "from pyspark import SparkContext, SparkConf\n",
    "from pyspark.sql import SparkSession\n",
    "sc = SparkContext.getOrCreate(SparkConf().setMaster(\"local[*]\"))\n",
    "\n",
    "spark = SparkSession \\\n",
    "    .builder \\\n",
    "    .getOrCreate()"
   ]
  },
  {
   "cell_type": "code",
   "execution_count": 7,
   "metadata": {},
   "outputs": [],
   "source": [
    "data = spark.read.option('header','true').csv('log1.csv')\n",
    "markers = spark.read.option('header','true').csv('markers1.csv')"
   ]
  },
  {
   "cell_type": "code",
   "execution_count": 8,
   "metadata": {},
   "outputs": [
    {
     "name": "stdout",
     "output_type": "stream",
     "text": [
      "+--------+----+-------------------+\n",
      "|      ts|rssi|               ts_p|\n",
      "+--------+----+-------------------+\n",
      "|07:49:45| -86|1970-01-01 07:49:45|\n",
      "|07:49:50| -84|1970-01-01 07:49:50|\n",
      "|07:49:55| -86|1970-01-01 07:49:55|\n",
      "|07:50:00| -87|1970-01-01 07:50:00|\n",
      "|07:50:05| -77|1970-01-01 07:50:05|\n",
      "|07:50:10| -72|1970-01-01 07:50:10|\n",
      "|07:50:15| -66|1970-01-01 07:50:15|\n",
      "|07:50:20| -73|1970-01-01 07:50:20|\n",
      "|07:50:25| -67|1970-01-01 07:50:25|\n",
      "|07:50:30| -74|1970-01-01 07:50:30|\n",
      "|07:50:35| -68|1970-01-01 07:50:35|\n",
      "|07:50:40| -52|1970-01-01 07:50:40|\n",
      "|07:50:45| -62|1970-01-01 07:50:45|\n",
      "|07:50:50| -76|1970-01-01 07:50:50|\n",
      "|07:50:55| -80|1970-01-01 07:50:55|\n",
      "|07:51:00| -69|1970-01-01 07:51:00|\n",
      "|07:51:05| -69|1970-01-01 07:51:05|\n",
      "|07:51:10| -69|1970-01-01 07:51:10|\n",
      "|07:51:15| -69|1970-01-01 07:51:15|\n",
      "|07:51:20| -69|1970-01-01 07:51:20|\n",
      "+--------+----+-------------------+\n",
      "only showing top 20 rows\n",
      "\n"
     ]
    }
   ],
   "source": [
    "#convert ts_string to ts_timestamp\n",
    "from pyspark.sql.functions import to_timestamp\n",
    "data = data.withColumn(\"ts_p\", to_timestamp(\"ts\", \"HH:mm:ss\"))\n",
    "markers = markers.withColumn(\"ts_start_p\", to_timestamp(\"ts_start\", \"HH:mm:ss\"))\n",
    "markers = markers.withColumn(\"ts_stop_p\", to_timestamp(\"ts_stop\", \"HH:mm:ss\"))\n",
    "data.show()"
   ]
  },
  {
   "cell_type": "code",
   "execution_count": 9,
   "metadata": {},
   "outputs": [],
   "source": [
    "data.createOrReplaceTempView('data')\n",
    "markers.createOrReplaceTempView('markers')"
   ]
  },
  {
   "cell_type": "code",
   "execution_count": 10,
   "metadata": {},
   "outputs": [],
   "source": [
    "data = spark.sql('select * from data d inner join markers m on d.ts_p>=m.ts_start_p and d.ts_p<=m.ts_stop_p')"
   ]
  },
  {
   "cell_type": "code",
   "execution_count": 12,
   "metadata": {},
   "outputs": [],
   "source": [
    "import databricks.koalas as ks\n",
    "kdf = data.to_koalas()"
   ]
  },
  {
   "cell_type": "code",
   "execution_count": 13,
   "metadata": {},
   "outputs": [],
   "source": [
    "kdf = kdf.dropna()"
   ]
  },
  {
   "cell_type": "code",
   "execution_count": 14,
   "metadata": {},
   "outputs": [],
   "source": [
    "pdf = kdf[['rssi','location']].toPandas()"
   ]
  },
  {
   "cell_type": "code",
   "execution_count": 15,
   "metadata": {},
   "outputs": [
    {
     "name": "stderr",
     "output_type": "stream",
     "text": [
      "/opt/conda/envs/Python36/lib/python3.6/site-packages/sklearn/utils/validation.py:73: DataConversionWarning: A column-vector y was passed when a 1d array was expected. Please change the shape of y to (n_samples, ), for example using ravel().\n",
      "  return f(**kwargs)\n"
     ]
    }
   ],
   "source": [
    "from sklearn.linear_model import LogisticRegression\n",
    "clf = LogisticRegression(random_state=0).fit(pdf[['rssi']], pdf[['location']])"
   ]
  },
  {
   "cell_type": "code",
   "execution_count": 16,
   "metadata": {},
   "outputs": [
    {
     "data": {
      "text/plain": [
       "array(['1', '1', '1', '1', '0', '0', '0', '0', '0', '0', '0', '0', '0',\n",
       "       '0', '0', '0', '0', '0', '0', '0', '0', '0', '0', '0', '0', '0',\n",
       "       '0', '0', '0', '0', '0', '0', '0', '0', '0', '0', '0', '0', '0',\n",
       "       '0', '1', '1', '1', '1', '3', '1', '1', '1', '1', '1', '1', '1',\n",
       "       '1', '1', '1', '1', '0', '0', '1', '1', '1', '0', '1', '1', '1',\n",
       "       '3', '3', '3', '3', '3', '1', '3', '3', '3', '3', '1', '3', '3',\n",
       "       '3', '3', '3', '3', '3', '3', '3', '3', '3', '3', '3', '3', '3',\n",
       "       '3', '3', '3', '3', '3', '3', '3', '3', '3', '3', '3', '1'],\n",
       "      dtype=object)"
      ]
     },
     "execution_count": 16,
     "metadata": {},
     "output_type": "execute_result"
    }
   ],
   "source": []
  },
  {
   "cell_type": "code",
   "execution_count": 17,
   "metadata": {},
   "outputs": [
    {
     "data": {
      "text/plain": [
       "0.7475728155339806"
      ]
     },
     "execution_count": 17,
     "metadata": {},
     "output_type": "execute_result"
    }
   ],
   "source": [
    "from sklearn.metrics import accuracy_score\n",
    "accuracy_score(pdf[['location']], clf.predict(pdf[['rssi']]))"
   ]
  },
  {
   "cell_type": "code",
   "execution_count": null,
   "metadata": {},
   "outputs": [],
   "source": []
  }
 ],
 "metadata": {
  "kernelspec": {
   "display_name": "Python 3.6",
   "language": "python",
   "name": "python3"
  },
  "language_info": {
   "codemirror_mode": {
    "name": "ipython",
    "version": 3
   },
   "file_extension": ".py",
   "mimetype": "text/x-python",
   "name": "python",
   "nbconvert_exporter": "python",
   "pygments_lexer": "ipython3",
   "version": "3.6.9"
  }
 },
 "nbformat": 4,
 "nbformat_minor": 1
}
