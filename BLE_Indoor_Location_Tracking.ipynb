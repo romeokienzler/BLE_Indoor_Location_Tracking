{
 "cells": [
  {
   "cell_type": "code",
   "execution_count": 1,
   "metadata": {},
   "outputs": [
    {
     "name": "stdout",
     "output_type": "stream",
     "text": [
      "Collecting pyspark==3.0.0\n",
      "\u001b[?25l  Downloading https://files.pythonhosted.org/packages/8e/b0/bf9020b56492281b9c9d8aae8f44ff51e1bc91b3ef5a884385cb4e389a40/pyspark-3.0.0.tar.gz (204.7MB)\n",
      "\u001b[K     |████████████████████████████████| 204.7MB 136kB/s eta 0:00:01   |█                               | 6.3MB 7.2MB/s eta 0:00:28     |█▊                              | 10.7MB 7.2MB/s eta 0:00:27     |███████████▏                    | 71.5MB 14.1MB/s eta 0:00:10     |█████████████████████████       | 160.6MB 9.0MB/s eta 0:00:05     |███████████████████████████████ | 198.6MB 8.8MB/s eta 0:00:01\n",
      "\u001b[?25hCollecting koalas==1.0.1\n",
      "\u001b[?25l  Downloading https://files.pythonhosted.org/packages/50/b6/86413b835482398002b0609c337113e61998c00e3b0183b8adfaba9c56ee/koalas-1.0.1-py3-none-any.whl (691kB)\n",
      "\u001b[K     |████████████████████████████████| 696kB 29.7MB/s eta 0:00:01\n",
      "\u001b[?25hCollecting pyarrow==0.15.1\n",
      "\u001b[?25l  Downloading https://files.pythonhosted.org/packages/6c/32/ce1926f05679ea5448fd3b98fbd9419d8c7a65f87d1a12ee5fb9577e3a8e/pyarrow-0.15.1-cp36-cp36m-manylinux2010_x86_64.whl (59.2MB)\n",
      "\u001b[K     |████████████████████████████████| 59.2MB 36.6MB/s eta 0:00:01\n",
      "\u001b[?25hCollecting scikit-learn==0.23.1\n",
      "\u001b[?25l  Downloading https://files.pythonhosted.org/packages/d9/3a/eb8d7bbe28f4787d140bb9df685b7d5bf6115c0e2a969def4027144e98b6/scikit_learn-0.23.1-cp36-cp36m-manylinux1_x86_64.whl (6.8MB)\n",
      "\u001b[K     |████████████████████████████████| 6.9MB 8.3MB/s eta 0:00:01\n",
      "\u001b[?25hCollecting py4j==0.10.9 (from pyspark==3.0.0)\n",
      "\u001b[?25l  Downloading https://files.pythonhosted.org/packages/9e/b6/6a4fb90cd235dc8e265a6a2067f2a2c99f0d91787f06aca4bcf7c23f3f80/py4j-0.10.9-py2.py3-none-any.whl (198kB)\n",
      "\u001b[K     |████████████████████████████████| 204kB 29.5MB/s eta 0:00:01\n",
      "\u001b[?25hRequirement already satisfied: pandas>=0.23.2 in /opt/conda/envs/Python36/lib/python3.6/site-packages (from koalas==1.0.1) (0.24.1)\n",
      "Requirement already satisfied: numpy>=1.14 in /opt/conda/envs/Python36/lib/python3.6/site-packages (from koalas==1.0.1) (1.15.4)\n",
      "Requirement already satisfied: matplotlib>=3.0.0 in /opt/conda/envs/Python36/lib/python3.6/site-packages (from koalas==1.0.1) (3.0.2)\n",
      "Requirement already satisfied: six>=1.0.0 in /opt/conda/envs/Python36/lib/python3.6/site-packages (from pyarrow==0.15.1) (1.12.0)\n",
      "Collecting threadpoolctl>=2.0.0 (from scikit-learn==0.23.1)\n",
      "  Downloading https://files.pythonhosted.org/packages/f7/12/ec3f2e203afa394a149911729357aa48affc59c20e2c1c8297a60f33f133/threadpoolctl-2.1.0-py3-none-any.whl\n",
      "Requirement already satisfied: scipy>=0.19.1 in /opt/conda/envs/Python36/lib/python3.6/site-packages (from scikit-learn==0.23.1) (1.2.0)\n",
      "Collecting joblib>=0.11 (from scikit-learn==0.23.1)\n",
      "\u001b[?25l  Downloading https://files.pythonhosted.org/packages/51/dd/0e015051b4a27ec5a58b02ab774059f3289a94b0906f880a3f9507e74f38/joblib-0.16.0-py3-none-any.whl (300kB)\n",
      "\u001b[K     |████████████████████████████████| 307kB 30.2MB/s eta 0:00:01\n",
      "\u001b[?25hRequirement already satisfied: python-dateutil>=2.5.0 in /opt/conda/envs/Python36/lib/python3.6/site-packages (from pandas>=0.23.2->koalas==1.0.1) (2.7.5)\n",
      "Requirement already satisfied: pytz>=2011k in /opt/conda/envs/Python36/lib/python3.6/site-packages (from pandas>=0.23.2->koalas==1.0.1) (2018.9)\n",
      "Requirement already satisfied: cycler>=0.10 in /opt/conda/envs/Python36/lib/python3.6/site-packages (from matplotlib>=3.0.0->koalas==1.0.1) (0.10.0)\n",
      "Requirement already satisfied: kiwisolver>=1.0.1 in /opt/conda/envs/Python36/lib/python3.6/site-packages (from matplotlib>=3.0.0->koalas==1.0.1) (1.0.1)\n",
      "Requirement already satisfied: pyparsing!=2.0.4,!=2.1.2,!=2.1.6,>=2.0.1 in /opt/conda/envs/Python36/lib/python3.6/site-packages (from matplotlib>=3.0.0->koalas==1.0.1) (2.3.1)\n",
      "Requirement already satisfied: setuptools in /opt/conda/envs/Python36/lib/python3.6/site-packages (from kiwisolver>=1.0.1->matplotlib>=3.0.0->koalas==1.0.1) (40.8.0)\n",
      "Building wheels for collected packages: pyspark\n",
      "  Building wheel for pyspark (setup.py) ... \u001b[?25ldone\n",
      "\u001b[?25h  Stored in directory: /home/dsxuser/.cache/pip/wheels/57/27/4d/ddacf7143f8d5b76c45c61ee2e43d9f8492fc5a8e78ebd7d37\n",
      "Successfully built pyspark\n",
      "\u001b[31mERROR: autoai-libs 1.10.5 has requirement numpy>=1.16.4, but you'll have numpy 1.15.4 which is incompatible.\u001b[0m\n",
      "\u001b[31mERROR: autoai-libs 1.10.5 has requirement pandas>=0.24.2, but you'll have pandas 0.24.1 which is incompatible.\u001b[0m\n",
      "\u001b[31mERROR: autoai-libs 1.10.5 has requirement scikit-learn==0.20.3, but you'll have scikit-learn 0.23.1 which is incompatible.\u001b[0m\n",
      "Installing collected packages: py4j, pyspark, pyarrow, koalas, threadpoolctl, joblib, scikit-learn\n",
      "  Found existing installation: pyarrow 0.11.1\n",
      "    Uninstalling pyarrow-0.11.1:\n",
      "      Successfully uninstalled pyarrow-0.11.1\n",
      "  Found existing installation: scikit-learn 0.20.3\n",
      "    Uninstalling scikit-learn-0.20.3:\n",
      "      Successfully uninstalled scikit-learn-0.20.3\n",
      "Successfully installed joblib-0.16.0 koalas-1.0.1 py4j-0.10.9 pyarrow-0.15.1 pyspark-3.0.0 scikit-learn-0.23.1 threadpoolctl-2.1.0\n"
     ]
    }
   ],
   "source": [
    "!pip install pyspark==3.0.0 koalas==1.0.1 pyarrow==0.15.1 scikit-learn==0.23.1"
   ]
  },
  {
   "cell_type": "code",
   "execution_count": 14,
   "metadata": {},
   "outputs": [
    {
     "name": "stderr",
     "output_type": "stream",
     "text": [
      "--2020-07-03 05:36:16--  https://raw.githubusercontent.com/romeokienzler/BLE_Indoor_Location_Tracking/master/raw_data/log1.txt\n",
      "Resolving raw.githubusercontent.com (raw.githubusercontent.com)... 151.101.48.133\n",
      "Connecting to raw.githubusercontent.com (raw.githubusercontent.com)|151.101.48.133|:443... connected.\n",
      "HTTP request sent, awaiting response... 200 OK\n",
      "Length: 19954 (19K) [text/plain]\n",
      "Saving to: ‘log1.txt’\n",
      "\n",
      "     0K .......... .........                                  100% 13.0M=0.001s\n",
      "\n",
      "2020-07-03 05:36:16 (13.0 MB/s) - ‘log1.txt’ saved [19954/19954]\n",
      "\n",
      "--2020-07-03 05:36:16--  https://raw.githubusercontent.com/romeokienzler/BLE_Indoor_Location_Tracking/master/raw_data/log2.txt\n",
      "Resolving raw.githubusercontent.com (raw.githubusercontent.com)... 199.232.8.133\n",
      "Connecting to raw.githubusercontent.com (raw.githubusercontent.com)|199.232.8.133|:443... connected.\n",
      "HTTP request sent, awaiting response... 200 OK\n",
      "Length: 13026 (13K) [text/plain]\n",
      "Saving to: ‘log2.txt’\n",
      "\n",
      "     0K .......... ..                                         100% 10.4M=0.001s\n",
      "\n",
      "2020-07-03 05:36:16 (10.4 MB/s) - ‘log2.txt’ saved [13026/13026]\n",
      "\n",
      "--2020-07-03 05:36:16--  https://raw.githubusercontent.com/romeokienzler/BLE_Indoor_Location_Tracking/master/raw_data/log3.txt\n",
      "Resolving raw.githubusercontent.com (raw.githubusercontent.com)... 199.232.8.133\n",
      "Connecting to raw.githubusercontent.com (raw.githubusercontent.com)|199.232.8.133|:443... connected.\n",
      "HTTP request sent, awaiting response... 200 OK\n",
      "Length: 16682 (16K) [text/plain]\n",
      "Saving to: ‘log3.txt’\n",
      "\n",
      "     0K .......... ......                                     100% 12.2M=0.001s\n",
      "\n",
      "2020-07-03 05:36:16 (12.2 MB/s) - ‘log3.txt’ saved [16682/16682]\n",
      "\n",
      "--2020-07-03 05:36:16--  https://raw.githubusercontent.com/romeokienzler/BLE_Indoor_Location_Tracking/master/raw_data/log4.txt\n",
      "Resolving raw.githubusercontent.com (raw.githubusercontent.com)... 199.232.8.133\n",
      "Connecting to raw.githubusercontent.com (raw.githubusercontent.com)|199.232.8.133|:443... connected.\n",
      "HTTP request sent, awaiting response... 200 OK\n",
      "Length: 18890 (18K) [text/plain]\n",
      "Saving to: ‘log4.txt’\n",
      "\n",
      "     0K .......... ........                                   100% 13.3M=0.001s\n",
      "\n",
      "2020-07-03 05:36:16 (13.3 MB/s) - ‘log4.txt’ saved [18890/18890]\n",
      "\n"
     ]
    }
   ],
   "source": [
    "%%bash\n",
    "for i in `seq 4`; do \n",
    "    rm log$i*\n",
    "    wget https://raw.githubusercontent.com/romeokienzler/BLE_Indoor_Location_Tracking/master/raw_data/log$i.txt\n",
    "done"
   ]
  },
  {
   "cell_type": "code",
   "execution_count": 35,
   "metadata": {},
   "outputs": [],
   "source": [
    "%%bash\n",
    "for i in `seq 4`; do \n",
    "    echo \"ts,rssi\" > log$i.csv\n",
    "    cat log$i.txt |awk  '{print $4\",\"$11}' >> log$i.csv\n",
    "done"
   ]
  },
  {
   "cell_type": "code",
   "execution_count": 17,
   "metadata": {},
   "outputs": [
    {
     "name": "stderr",
     "output_type": "stream",
     "text": [
      "--2020-07-03 05:38:36--  https://raw.githubusercontent.com/romeokienzler/BLE_Indoor_Location_Tracking/master/raw_data/markers1.csv\n",
      "Resolving raw.githubusercontent.com (raw.githubusercontent.com)... 199.232.8.133\n",
      "Connecting to raw.githubusercontent.com (raw.githubusercontent.com)|199.232.8.133|:443... connected.\n",
      "HTTP request sent, awaiting response... 200 OK\n",
      "Length: 151 [text/plain]\n",
      "Saving to: ‘markers1.csv’\n",
      "\n",
      "     0K                                                       100% 4.71M=0s\n",
      "\n",
      "2020-07-03 05:38:36 (4.71 MB/s) - ‘markers1.csv’ saved [151/151]\n",
      "\n",
      "--2020-07-03 05:38:36--  https://raw.githubusercontent.com/romeokienzler/BLE_Indoor_Location_Tracking/master/raw_data/markers2.csv\n",
      "Resolving raw.githubusercontent.com (raw.githubusercontent.com)... 151.101.48.133\n",
      "Connecting to raw.githubusercontent.com (raw.githubusercontent.com)|151.101.48.133|:443... connected.\n",
      "HTTP request sent, awaiting response... 200 OK\n",
      "Length: 151 [text/plain]\n",
      "Saving to: ‘markers2.csv’\n",
      "\n",
      "     0K                                                       100% 4.71M=0s\n",
      "\n",
      "2020-07-03 05:38:36 (4.71 MB/s) - ‘markers2.csv’ saved [151/151]\n",
      "\n",
      "--2020-07-03 05:38:36--  https://raw.githubusercontent.com/romeokienzler/BLE_Indoor_Location_Tracking/master/raw_data/markers3.csv\n",
      "Resolving raw.githubusercontent.com (raw.githubusercontent.com)... 151.101.48.133\n",
      "Connecting to raw.githubusercontent.com (raw.githubusercontent.com)|151.101.48.133|:443... connected.\n",
      "HTTP request sent, awaiting response... 200 OK\n",
      "Length: 151 [text/plain]\n",
      "Saving to: ‘markers3.csv’\n",
      "\n",
      "     0K                                                       100% 4.48M=0s\n",
      "\n",
      "2020-07-03 05:38:37 (4.48 MB/s) - ‘markers3.csv’ saved [151/151]\n",
      "\n",
      "--2020-07-03 05:38:37--  https://raw.githubusercontent.com/romeokienzler/BLE_Indoor_Location_Tracking/master/raw_data/markers4.csv\n",
      "Resolving raw.githubusercontent.com (raw.githubusercontent.com)... 199.232.8.133\n",
      "Connecting to raw.githubusercontent.com (raw.githubusercontent.com)|199.232.8.133|:443... connected.\n",
      "HTTP request sent, awaiting response... 200 OK\n",
      "Length: 151 [text/plain]\n",
      "Saving to: ‘markers4.csv’\n",
      "\n",
      "     0K                                                       100% 3.65M=0s\n",
      "\n",
      "2020-07-03 05:38:37 (3.65 MB/s) - ‘markers4.csv’ saved [151/151]\n",
      "\n"
     ]
    }
   ],
   "source": [
    "%%bash\n",
    "for i in `seq 4`; do \n",
    "    rm markers$i.csv\n",
    "    wget https://raw.githubusercontent.com/romeokienzler/BLE_Indoor_Location_Tracking/master/raw_data/markers$i.csv\n",
    "done"
   ]
  },
  {
   "cell_type": "code",
   "execution_count": 19,
   "metadata": {},
   "outputs": [],
   "source": [
    "from pyspark import SparkContext, SparkConf\n",
    "from pyspark.sql import SparkSession\n",
    "\n",
    "sc = SparkContext.getOrCreate(SparkConf().setMaster(\"local[*]\"))\n",
    "spark = SparkSession.builder.getOrCreate()"
   ]
  },
  {
   "cell_type": "code",
   "execution_count": 38,
   "metadata": {},
   "outputs": [],
   "source": [
    "from pyspark.sql.functions import lit\n",
    "\n",
    "data = None\n",
    "markers = None\n",
    "\n",
    "for i in range(1,5):\n",
    "    data_tmp = spark.read.option('header','true').csv('log'+str(i)+'.csv')\n",
    "    data_tmp = data_tmp.withColumn('receiver_placement', lit(i))\n",
    "    markers_tmp = spark.read.option('header','true').csv('markers'+str(i)+'.csv')\n",
    "    markers_tmp = markers_tmp.withColumn('receiver_placement', lit(i))\n",
    "    if i == 1:\n",
    "        data = data_tmp\n",
    "        markers = markers_tmp\n",
    "    else:\n",
    "        data.union(data_tmp)\n",
    "        markers.union(markers_tmp)"
   ]
  },
  {
   "cell_type": "code",
   "execution_count": 39,
   "metadata": {},
   "outputs": [],
   "source": [
    "#convert ts_string to ts_timestamp\n",
    "from pyspark.sql.functions import to_timestamp\n",
    "data = data.withColumn(\"ts_p\", to_timestamp(\"ts\", \"HH:mm:ss\"))\n",
    "markers = markers.withColumn(\"ts_start_p\", to_timestamp(\"ts_start\", \"HH:mm:ss\"))\n",
    "markers = markers.withColumn(\"ts_stop_p\", to_timestamp(\"ts_stop\", \"HH:mm:ss\"))"
   ]
  },
  {
   "cell_type": "code",
   "execution_count": 40,
   "metadata": {},
   "outputs": [],
   "source": [
    "data.createOrReplaceTempView('data')\n",
    "markers.createOrReplaceTempView('markers')"
   ]
  },
  {
   "cell_type": "code",
   "execution_count": 55,
   "metadata": {},
   "outputs": [],
   "source": [
    "data = spark.sql('''\n",
    "select rssi,d.receiver_placement,location from data d \n",
    "inner join markers m on \n",
    "d.receiver_placement = m.receiver_placement \n",
    "and d.ts_p>=m.ts_start_p \n",
    "and d.ts_p<=m.ts_stop_p\n",
    "''')\n",
    "data.createOrReplaceTempView('data')"
   ]
  },
  {
   "cell_type": "code",
   "execution_count": 46,
   "metadata": {},
   "outputs": [],
   "source": [
    "import databricks.koalas as ks\n",
    "kdf = data.to_koalas()"
   ]
  },
  {
   "cell_type": "code",
   "execution_count": 47,
   "metadata": {},
   "outputs": [],
   "source": [
    "kdf = kdf.dropna()"
   ]
  },
  {
   "cell_type": "code",
   "execution_count": 48,
   "metadata": {},
   "outputs": [],
   "source": [
    "pdf = kdf.toPandas()"
   ]
  },
  {
   "cell_type": "code",
   "execution_count": 56,
   "metadata": {},
   "outputs": [
    {
     "name": "stderr",
     "output_type": "stream",
     "text": [
      "/opt/conda/envs/Python36/lib/python3.6/site-packages/sklearn/utils/validation.py:73: DataConversionWarning: A column-vector y was passed when a 1d array was expected. Please change the shape of y to (n_samples, ), for example using ravel().\n",
      "  return f(**kwargs)\n",
      "/opt/conda/envs/Python36/lib/python3.6/site-packages/sklearn/linear_model/_logistic.py:764: ConvergenceWarning: lbfgs failed to converge (status=1):\n",
      "STOP: TOTAL NO. of ITERATIONS REACHED LIMIT.\n",
      "\n",
      "Increase the number of iterations (max_iter) or scale the data as shown in:\n",
      "    https://scikit-learn.org/stable/modules/preprocessing.html\n",
      "Please also refer to the documentation for alternative solver options:\n",
      "    https://scikit-learn.org/stable/modules/linear_model.html#logistic-regression\n",
      "  extra_warning_msg=_LOGISTIC_SOLVER_CONVERGENCE_MSG)\n"
     ]
    }
   ],
   "source": [
    "from sklearn.linear_model import LogisticRegression\n",
    "clf = LogisticRegression(random_state=0).fit(pdf[['rssi','receiver_placement']], pdf[['location']])"
   ]
  },
  {
   "cell_type": "code",
   "execution_count": 57,
   "metadata": {},
   "outputs": [
    {
     "data": {
      "text/plain": [
       "0.7475728155339806"
      ]
     },
     "execution_count": 57,
     "metadata": {},
     "output_type": "execute_result"
    }
   ],
   "source": [
    "from sklearn.metrics import accuracy_score\n",
    "accuracy_score(pdf[['location']], clf.predict(pdf[['rssi','receiver_placement']]))"
   ]
  },
  {
   "cell_type": "code",
   "execution_count": 59,
   "metadata": {},
   "outputs": [
    {
     "name": "stdout",
     "output_type": "stream",
     "text": [
      "              precision    recall  f1-score   support\n",
      "\n",
      "           0       0.92      0.88      0.90        41\n",
      "           1       0.71      0.80      0.75        25\n",
      "           2       0.00      0.00      0.00        15\n",
      "           3       0.58      0.95      0.72        22\n",
      "\n",
      "    accuracy                           0.75       103\n",
      "   macro avg       0.56      0.66      0.59       103\n",
      "weighted avg       0.67      0.75      0.70       103\n",
      "\n"
     ]
    },
    {
     "name": "stderr",
     "output_type": "stream",
     "text": [
      "/opt/conda/envs/Python36/lib/python3.6/site-packages/sklearn/metrics/_classification.py:1221: UndefinedMetricWarning: Precision and F-score are ill-defined and being set to 0.0 in labels with no predicted samples. Use `zero_division` parameter to control this behavior.\n",
      "  _warn_prf(average, modifier, msg_start, len(result))\n"
     ]
    }
   ],
   "source": [
    "from sklearn.metrics import classification_report\n",
    "target_names = ['0','1','2','3']\n",
    "print(classification_report(pdf[['location']], clf.predict(pdf[['rssi','receiver_placement']]), target_names=target_names))"
   ]
  }
 ],
 "metadata": {
  "kernelspec": {
   "display_name": "Python 3.6",
   "language": "python",
   "name": "python3"
  },
  "language_info": {
   "codemirror_mode": {
    "name": "ipython",
    "version": 3
   },
   "file_extension": ".py",
   "mimetype": "text/x-python",
   "name": "python",
   "nbconvert_exporter": "python",
   "pygments_lexer": "ipython3",
   "version": "3.6.9"
  }
 },
 "nbformat": 4,
 "nbformat_minor": 1
}
